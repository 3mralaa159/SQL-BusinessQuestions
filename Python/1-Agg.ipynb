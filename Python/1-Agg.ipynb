# Q
# link
# Answwer:
# Import your libraries
import pandas as pd

# Start writing code
listening_habits.head()
# Convert duration from seconds to minutes 
listening_habits['listen_duration_minutes'] = listening_habits['listen_duration']//60
# Calculate total listening time (rounded to nearest whole minute)
total_listening_time = listening_habits.groupby('user_id')['listen_duration_minutes'].sum().round()
# Calculate count of unique songs
unique_song_count = listening_habits.groupby('user_id')['song_id'].nunique()

# Combine results into a DataFrame
result_df = pd.DataFrame({
    'user_id': total_listening_time.index,
    'total_listening_time_minutes': total_listening_time.values,
    'unique_songs_count': unique_song_count.values
})
